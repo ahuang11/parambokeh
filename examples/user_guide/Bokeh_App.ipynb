{
 "cells": [
  {
   "cell_type": "markdown",
   "metadata": {},
   "source": [
    "In the [Introduction](Introduction.ipynb), we showed how to use parambokeh inside a notebook. However, parambokeh widgets can be used in other contexts. Here we show how parambokeh can be used in a bokeh app.\n",
    "\n",
    "In a python script, `simple.py`, we first declare a sample Parameterized classes with various Parameters to use as a demonstration object (see the [Introduction](Introduction.ipynb) for more information):"
   ]
  },
  {
   "cell_type": "code",
   "execution_count": null,
   "metadata": {},
   "outputs": [],
   "source": [
    "%%writefile simple.py\n",
    "\n",
    "import param\n",
    "import datetime as dt\n",
    "\n",
    "def hello(x, **kwargs):\n",
    "    print(\"Hello %s\" % x)\n",
    "    \n",
    "class Example(param.Parameterized):\n",
    "    \"\"\"An example Parameterized class\"\"\"\n",
    "    x                       = param.Parameter(default=3.14,doc=\"X position\")\n",
    "    y                       = param.Parameter(default=\"Not editable\",constant=True)\n",
    "    string_value            = param.String(default=\"str\",doc=\"A string\")\n",
    "    num_int                 = param.Integer(50000,bounds=(-200,100000))\n",
    "    unbounded_int           = param.Integer(23)\n",
    "    float_with_hard_bounds  = param.Number(8.2,bounds=(7.5,10))\n",
    "    float_with_soft_bounds  = param.Number(0.5,bounds=(0,None),softbounds=(0,2))\n",
    "    unbounded_float         = param.Number(30.01,precedence=0)\n",
    "    hidden_parameter        = param.Number(2.718,precedence=-1)\n",
    "    integer_range           = param.Range(default=(3,7),bounds=(0, 10))\n",
    "    float_range             = param.Range(default=(0,1.57),bounds=(0, 3.145))\n",
    "    dictionary              = param.Dict(default={\"a\":2, \"b\":9})\n",
    "    boolean                 = param.Boolean(True, doc=\"A sample Boolean parameter\")\n",
    "    color                   = param.Color(default='#FFFFFF')\n",
    "    date                    = param.Date(dt.datetime(2017, 1, 1),\n",
    "                                         bounds=(dt.datetime(2017, 1, 1), dt.datetime(2017, 2, 1)))\n",
    "    select_string           = param.ObjectSelector(default=\"yellow\",objects=[\"red\",\"yellow\",\"green\"])\n",
    "    select_fn               = param.ObjectSelector(default=list,objects=[list,set,dict])\n",
    "    int_list                = param.ListSelector(default=[3,5], objects=[1,3,5,7,9],precedence=0.5)\n",
    "    single_file             = param.FileSelector(path='../../*/*.py*',precedence=0.5)\n",
    "    multiple_files          = param.MultiFileSelector(path='../../*/*.py?',precedence=0.5)\n",
    "    #msg                     = param.Action(hello, doc=\"\"\"Print a message.\"\"\",precedence=0.7)\n"
   ]
  },
  {
   "cell_type": "markdown",
   "metadata": {},
   "source": [
    "We then configure bokeh to create an html file, but you could skip this for a server app. See [bokeh's documentation](https://bokeh.pydata.org/en/latest/) for more information."
   ]
  },
  {
   "cell_type": "code",
   "execution_count": null,
   "metadata": {},
   "outputs": [],
   "source": [
    "%%writefile -a simple.py\n",
    "\n",
    "import bokeh.io\n",
    "bokeh.io.output_file('simple.html')"
   ]
  },
  {
   "cell_type": "markdown",
   "metadata": {},
   "source": [
    "Now we can create our widgets for the Example class - as we did for notebooks in the [Introduction](Introduction.ipynb), but here specifying `mode=\"server\"`."
   ]
  },
  {
   "cell_type": "code",
   "execution_count": null,
   "metadata": {},
   "outputs": [],
   "source": [
    "%%writefile -a simple.py\n",
    "\n",
    "import parambokeh\n",
    "w = parambokeh.Widgets(Example, mode='server')"
   ]
  },
  {
   "cell_type": "markdown",
   "metadata": {},
   "source": [
    "Finally we instruct bokeh to save the widgets to html:"
   ]
  },
  {
   "cell_type": "code",
   "execution_count": null,
   "metadata": {},
   "outputs": [],
   "source": [
    "%%writefile -a simple.py\n",
    "\n",
    "bokeh.io.save(w)"
   ]
  },
  {
   "cell_type": "markdown",
   "metadata": {},
   "source": [
    "We can now execute our `simple.py` script, which will create `simple.html`:"
   ]
  },
  {
   "cell_type": "code",
   "execution_count": null,
   "metadata": {},
   "outputs": [],
   "source": [
    "!python simple.py"
   ]
  },
  {
   "cell_type": "markdown",
   "metadata": {},
   "source": [
    "You can then open `simple.html` in a web browser (which we do here by including it in an iframe):"
   ]
  },
  {
   "cell_type": "code",
   "execution_count": null,
   "metadata": {},
   "outputs": [],
   "source": [
    "import IPython\n",
    "IPython.display.HTML('<iframe src=' + \"simple.html\" + ' width=500 height=1000></iframe>')"
   ]
  },
  {
   "cell_type": "markdown",
   "metadata": {},
   "source": [
    "You could instead run something like `bokeh serve --show simple.py` to get a live app rather than a static one."
   ]
  }
 ],
 "metadata": {
  "language_info": {
   "name": "python",
   "pygments_lexer": "ipython3"
  }
 },
 "nbformat": 4,
 "nbformat_minor": 1
}
